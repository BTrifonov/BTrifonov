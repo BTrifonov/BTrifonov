{
  "cells": [
    {
      "cell_type": "markdown",
      "metadata": {
        "id": "view-in-github",
        "colab_type": "text"
      },
      "source": [
        "<a href=\"https://colab.research.google.com/github/BTrifonov/BTrifonov/blob/main/supply_network_design/supply_network_design_2.ipynb\" target=\"_parent\"><img src=\"https://colab.research.google.com/assets/colab-badge.svg\" alt=\"Open In Colab\"/></a>"
      ]
    },
    {
      "cell_type": "markdown",
      "metadata": {
        "id": "_Q2-s5_nj4cB"
      },
      "source": [
        "# Supply Network Design 2\n",
        "\n",
        "## Objective and Prerequisites\n",
        "\n",
        "Take your supply chain network design skills to the next level in this example. We’ll show you how – given a set of factories, depots, and customers – you can use mathematical optimization to determine which depots to open or close in order to minimize overall costs.\n",
        "\n",
        "This model is example 20 from the fifth edition of Model Building in Mathematical Programming, by H. Paul Williams on pages 275-276 and 332-333.\n",
        "\n",
        "This example is of beginning difficulty; we assume that you know Python and have some knowledge of the Gurobi Python API and building mathematical optimization models.\n",
        "\n",
        "**Download the Repository** <br />\n",
        "You can download the repository containing this and other examples by clicking [here](https://github.com/Gurobi/modeling-examples/archive/master.zip).\n",
        "\n",
        "---\n",
        "## Problem Description\n",
        "\n",
        "In this problem, we have six end customers, each with a known demand for a product.  Customer demand can be satisfied from a set of six depots, or directly from a set of two factories.  Each depot can support a maximum volume of product moving through it, and each factory can produce a maximum amount of product.  There are known costs associated with transporting the product, from a factory to a depot, from a depot to a customer, or from a factory directly to a customer. This extension provides the opportunity to choose which four of the six possible depots to open.  It also provides an option of expanding capacity at one specific depot.\n",
        "\n",
        "Our supply network has two factories, in Liverpool and Brighton, that produce a product.  Each has a maximum production capacity:\n",
        "\n",
        "| Factory | Supply (tons) |\n",
        "| --- | --- |\n",
        "| Liverpool | 150,000 |\n",
        "| Brighton |  200,000 |\n",
        "\n",
        "The product can be shipped from a factory to a set of six depots.  Each depot has a maximum throughput.  Depots don't produce or consume the product; they simply pass the product through to customers.\n",
        "\n",
        "| Depot | Throughput (tons) |\n",
        "| --- | --- |\n",
        "| Newcastle | 70,000 |\n",
        "| Birmingham | 50,000 |\n",
        "| London | 100,000 |\n",
        "| Exeter | 40,000 |\n",
        "| Bristol | 30,000 |\n",
        "| Northampton | 25,000 |\n",
        "\n",
        "We can actually only choose four of the six depots to open.  Opening a depot has a cost:\n",
        "\n",
        "| Depot | Cost to open |\n",
        "| --- | --- |\n",
        "| Newcastle | 10,000 |\n",
        "| Exeter | 5,000 |\n",
        "| Bristol | 12,000 |\n",
        "| Northampton | 4,000 |\n",
        "\n",
        "(Note that the description in the book talks about the cost of opening Bristol or Northampton, and the savings from closing Newcastle or Exeter, but these are simply different ways of phrasing the same choice).\n",
        "\n",
        "We also have the option of expanding the capacity at Birmingham by 20,000 tons, for a cost of \\$3000.\n",
        "\n",
        "Our network has six customers, each with a given demand.\n",
        "\n",
        "| Customer | Demand (tons) |\n",
        "| --- | --- |\n",
        "| C1 | 50,000 |\n",
        "| C2 | 10,000 |\n",
        "| C3 | 40,000 |\n",
        "| C4 | 35,000 |\n",
        "| C5 | 60,000 |\n",
        "| C6 | 20,000 |\n",
        "\n",
        "Shipping costs are given in the following table (in dollars per ton).  Columns are source cities and rows are destination cities.  Thus, for example, it costs $1 per ton to ship the product from Liverpool to London.  A '-' in the table indicates that that combination is not possible, so for example it is not possible to ship from the factory in Brighton to the depot in Newcastle.\n",
        "\n",
        "| To | Liverpool | Brighton | Newcastle | Birmingham | London | Exeter | Briston | Northhampton\n",
        "| --- | --- | --- | --- | --- | --- | --- | --- | --- |\n",
        "| Depots |\n",
        "| Newcastle   | 0.5 |   - |\n",
        "| Birmingham  | 0.5 | 0.3 |\n",
        "| London      | 1.0 | 0.5 |\n",
        "| Exeter      | 0.2 | 0.2 |\n",
        "| Bristol     | 0.6 | 0.4 |\n",
        "| Northampton | 0.4 | 0.3 |\n",
        "| Customers |\n",
        "| C1 | 1.0 | 2.0 |   - | 1.0 |   - |   - | 1.2 |   - |\n",
        "| C2 |   - |   - | 1.5 | 0.5 | 1.5 |   - | 0.6 | 0.4 |\n",
        "| C3 | 1.5 |   - | 0.5 | 0.5 | 2.0 | 0.2 | 0.5 |   - |\n",
        "| C4 | 2.0 |   - | 1.5 | 1.0 |   - | 1.5 |   - | 0.5 |\n",
        "| C5 |   - |   - |   - | 0.5 | 0.5 | 0.5 | 0.3 | 0.6 |\n",
        "| C6 | 1.0 |   - | 1.0 |   - | 1.5 | 1.5 | 0.8 | 0.9 |\n",
        "\n",
        "The questions to be answered: (i) Which four depots should be opened? (ii) Should Birmingham be expanded? (iii) Which depots should be used to satisfy customer demand?\n",
        "\n",
        "---\n",
        "## Model Formulation\n",
        "\n",
        "### Sets and Indices\n",
        "\n",
        "$f \\in \\text{Factories}=\\{\\text{Liverpool}, \\text{Brighton}\\}$\n",
        "\n",
        "$d \\in \\text{Depots}=\\{\\text{Newcastle}, \\text{Birmingham}, \\text{London}, \\text{Exeter}, \\text{Bristol}, \\text{Northampton}\\}$\n",
        "\n",
        "$c \\in \\text{Customers}=\\{\\text{C1}, \\text{C2}, \\text{C3}, \\text{C4}, \\text{C5}, \\text{C6}\\}$\n",
        "\n",
        "$\\text{Cities} = \\text{Factories} \\cup \\text{Depots} \\cup \\text{Customers}$\n",
        "\n",
        "### Parameters\n",
        "\n",
        "$\\text{cost}_{s,t} \\in \\mathbb{R}^+$: Cost of shipping one ton from source $s$ to destination $t$.\n",
        "\n",
        "$\\text{supply}_f \\in \\mathbb{R}^+$: Maximum possible supply from factory $f$ (in tons).\n",
        "\n",
        "$\\text{through}_d \\in \\mathbb{R}^+$: Maximum possible flow through depot $d$ (in tons).\n",
        "\n",
        "$\\text{demand}_c \\in \\mathbb{R}^+$: Demand for goods at customer $c$ (in tons).\n",
        "\n",
        "$\\text{opencost}_d \\in \\mathbb{R}^+$: Cost of opening depot $d$ (in dollars).\n",
        "\n",
        "### Decision Variables\n",
        "\n",
        "$\\text{flow}_{s,t} \\in \\mathbb{N}^+$: Quantity of goods (in tons) that is shipped from source $s$ to destionation $t$.\n",
        "\n",
        "$\\text{open}_{d} \\in [0,1]$: Is depot $d$ open?\n",
        "\n",
        "$\\text{expand} \\in [0,1]$: Should Birmingham be expanded?\n",
        "\n",
        "\n",
        "### Objective Function\n",
        "\n",
        "- **Cost**: Minimize total shipping costs plus costs of opening depots.\n",
        "\n",
        "\\begin{equation}\n",
        "\\text{Minimize} \\quad Z = \\sum_{(s,t) \\in \\text{Cities} \\times \\text{Cities}}{\\text{cost}_{s,t}*\\text{flow}_{s,t}} +\n",
        "                          \\sum_{{d} \\in \\text{Depots}}{\\text{opencost}_d*\\text{open}_d} +\n",
        "                          3000 * \\text{expand}\n",
        "\\end{equation}\n",
        "\n",
        "### Constraints\n",
        "\n",
        "- **Factory output**: Flow of goods from a factory must respect maximum capacity.\n",
        "\n",
        "\\begin{equation}\n",
        "\\sum_{t \\in \\text{Cities}}{\\text{flow}_{f,t}} \\leq \\text{supply}_{f} \\quad \\forall f \\in \\text{Factories}\n",
        "\\end{equation}\n",
        "\n",
        "- **Customer demand**: Flow of goods must meet customer demand.\n",
        "\n",
        "\\begin{equation}\n",
        "\\sum_{s \\in \\text{Cities}}{\\text{flow}_{s,c}} = \\text{demand}_{c} \\quad \\forall c \\in \\text{Customers}\n",
        "\\end{equation}\n",
        "\n",
        "- **Depot flow**: Flow into a depot equals flow out of the depot.\n",
        "\n",
        "\\begin{equation}\n",
        "\\sum_{s \\in \\text{Cities}}{\\text{flow}_{s,d}} =\n",
        "\\sum_{t \\in \\text{Cities}}{\\text{flow}_{d,t}}\n",
        "\\quad \\forall d \\in \\text{Depots}\n",
        "\\end{equation}\n",
        "\n",
        "- **Depot capacity (all but Birmingham)**: Flow into a depot must respect depot capacity, and is only allowed if the depot is open.\n",
        "\n",
        "\\begin{equation}\n",
        "\\sum_{s \\in \\text{Cities}}{\\text{flow}_{s,d}} \\leq \\text{through}_{d} * \\text{open}_{d}\n",
        "\\quad \\forall d \\in \\text{Depots} - \\text{Birmingham}\n",
        "\\end{equation}\n",
        "\n",
        "- **Depot capacity (Birmingham)**: Flow into Birmingham must respect depot capacity, which may have been expanded.\n",
        "\n",
        "\\begin{equation}\n",
        "\\sum_{s \\in \\text{Cities}} \\text{flow}_{s,\\text{Birmingham}} \\leq \\text{through}_{\\text{Birmingham}} + 20000 * \\text{expand}\n",
        "\\end{equation}\n",
        "\n",
        "- **Open depots**: At most 4 open depots (no choice for Birmingham or London).\n",
        "\n",
        "\\begin{equation}\n",
        "\\sum_{d \\in \\text{Depots}}{\\text{open}_{d}} \\leq 4\n",
        "\\end{equation}\n",
        "\n",
        "\\begin{equation}\n",
        "\\text{open}_{\\text{Birmingham}} = \\text{open}_{\\text{London}} = 1\n",
        "\\end{equation}\n",
        "\n",
        "---\n",
        "## Python Implementation\n",
        "\n",
        "We import the Gurobi Python Module and other Python libraries."
      ]
    },
    {
      "cell_type": "code",
      "execution_count": 20,
      "metadata": {
        "colab": {
          "base_uri": "https://localhost:8080/",
          "height": 0
        },
        "id": "sHY0Aj67j4cF",
        "outputId": "13ed3878-3565-4dfd-d014-7d18a6050f99"
      },
      "outputs": [
        {
          "output_type": "stream",
          "name": "stdout",
          "text": [
            "Requirement already satisfied: gurobipy in /usr/local/lib/python3.11/dist-packages (12.0.2)\n"
          ]
        }
      ],
      "source": [
        "%pip install gurobipy"
      ]
    },
    {
      "cell_type": "code",
      "execution_count": 21,
      "metadata": {
        "id": "0TEgFry4j4cF"
      },
      "outputs": [],
      "source": [
        "import pandas as pd\n",
        "\n",
        "import gurobipy as gp\n",
        "from gurobipy import GRB\n",
        "\n",
        "# tested with Python 3.11 & Gurobi 11.0"
      ]
    },
    {
      "cell_type": "markdown",
      "metadata": {
        "id": "_PBCom0qj4cF"
      },
      "source": [
        "## Input Data\n",
        "We define all the input data for the model."
      ]
    },
    {
      "cell_type": "code",
      "execution_count": 102,
      "metadata": {
        "id": "SUbQfQkZj4cG"
      },
      "outputs": [],
      "source": [
        "# Create dictionaries to capture factory supply limits, depot throughput limits, cost of opening depots, and customer demand.\n",
        "\n",
        "supply = dict({'Liverpool': 150000,\n",
        "               'Brighton': 200000})\n",
        "\n",
        "through = dict({'Newcastle': 70000,\n",
        "                'Birmingham': 50000,\n",
        "                'London': 100000,\n",
        "                'Exeter': 40000,\n",
        "                'Bristol': 30000,\n",
        "                'Northampton': 25000})\n",
        "\n",
        "opencost = dict({'Newcastle': 10000,\n",
        "                 'Birmingham': 0,\n",
        "                 'London': 0,\n",
        "                 'Exeter': 5000,\n",
        "                 'Bristol': 12000,\n",
        "                 'Northampton': 4000})\n",
        "\n",
        "demand = dict({'C1': 50000,\n",
        "               'C2': 10000,\n",
        "               'C3': 40000,\n",
        "               'C4': 35000,\n",
        "               'C5': 60000,\n",
        "               'C6': 20000})\n",
        "\n",
        "# Create a dictionary to capture shipping costs.\n",
        "\n",
        "arcs, cost = gp.multidict({\n",
        "    ('Liverpool', 'Newcastle'): 0.5,\n",
        "    ('Liverpool', 'Birmingham'): 0.5,\n",
        "    ('Liverpool', 'London'): 1.0,\n",
        "    ('Liverpool', 'Exeter'): 0.2,\n",
        "    ('Liverpool', 'Bristol'): 0.6,\n",
        "    ('Liverpool', 'Northampton'): 0.4,\n",
        "    ('Liverpool', 'C1'): 1.0,\n",
        "    ('Liverpool', 'C3'): 1.5,\n",
        "    ('Liverpool', 'C4'): 2.0,\n",
        "    ('Liverpool', 'C6'): 1.0,\n",
        "    ('Brighton', 'Birmingham'): 0.3,\n",
        "    ('Brighton', 'London'): 0.5,\n",
        "    ('Brighton', 'Exeter'): 0.2,\n",
        "    ('Brighton', 'Bristol'): 0.4,\n",
        "    ('Brighton', 'Northampton'): 0.3,\n",
        "    ('Brighton', 'C1'): 2.0,\n",
        "    ('Newcastle', 'C2'): 1.5,\n",
        "    ('Newcastle', 'C3'): 0.5,\n",
        "    ('Newcastle', 'C5'): 1.5,\n",
        "    ('Newcastle', 'C6'): 1.0,\n",
        "    ('Birmingham', 'C1'): 1.0,\n",
        "    ('Birmingham', 'C2'): 0.5,\n",
        "    ('Birmingham', 'C3'): 0.5,\n",
        "    ('Birmingham', 'C4'): 1.0,\n",
        "    ('Birmingham', 'C5'): 0.5,\n",
        "    ('London', 'C2'): 1.5,\n",
        "    ('London', 'C3'): 2.0,\n",
        "    ('London', 'C5'): 0.5,\n",
        "    ('London', 'C6'): 1.5,\n",
        "    ('Exeter', 'C3'): 0.2,\n",
        "    ('Exeter', 'C4'): 1.5,\n",
        "    ('Exeter', 'C5'): 0.5,\n",
        "    ('Exeter', 'C6'): 1.5,\n",
        "    ('Bristol', 'C1'): 1.2,\n",
        "    ('Bristol', 'C2'): 0.6,\n",
        "    ('Bristol', 'C3'): 0.5,\n",
        "    ('Bristol', 'C5'): 0.3,\n",
        "    ('Bristol', 'C6'): 0.8,\n",
        "    ('Northampton', 'C2'): 0.4,\n",
        "    ('Northampton', 'C4'): 0.5,\n",
        "    ('Northampton', 'C5'): 0.6,\n",
        "    ('Northampton', 'C6'): 0.9\n",
        "})"
      ]
    },
    {
      "cell_type": "markdown",
      "metadata": {
        "id": "uMWyqmtoj4cG"
      },
      "source": [
        "## Model Deployment\n",
        "\n",
        "We create a model and the variables. The 'flow' variables simply capture the amount of product that flows along each allowed path between a source and destination.  The 'open' variable capture decisions about which depots to open.  The 'expand' variable captures the choice of whether to expand Birmingham.  Objective coefficients are provided here, so we don't need to provide an optimization objective later."
      ]
    },
    {
      "cell_type": "code",
      "execution_count": 104,
      "metadata": {
        "id": "_byaEtCHj4cG"
      },
      "outputs": [],
      "source": [
        "model = gp.Model('SupplyNetworkDesign2')\n",
        "\n",
        "depots = through.keys()\n",
        "flow = model.addVars(arcs, obj=cost, name=\"flow\")\n",
        "open = model.addVars(depots, obj=opencost, vtype=GRB.BINARY, name=\"open\")\n",
        "expand = model.addVar(obj=3000, vtype=GRB.BINARY, name=\"expand\")\n",
        "\n",
        "open['Birmingham'].lb = 1\n",
        "open['London'].lb = 1\n",
        "model.objcon = -(opencost['Newcastle'] + opencost['Exeter']) # Phrased as 'savings from closing'"
      ]
    },
    {
      "cell_type": "markdown",
      "metadata": {
        "id": "8PB1XsH1j4cH"
      },
      "source": [
        "Our first constraints require the total flow along arcs leaving a factory to be at most as large as the supply capacity of that factory."
      ]
    },
    {
      "cell_type": "code",
      "execution_count": 105,
      "metadata": {
        "id": "WPF5xqBkj4cI"
      },
      "outputs": [],
      "source": [
        "# Production capacity limits\n",
        "\n",
        "factories = supply.keys()\n",
        "factory_flow = model.addConstrs((gp.quicksum(flow.select(factory, '*')) <= supply[factory]\n",
        "                                 for factory in factories), name=\"factory\")"
      ]
    },
    {
      "cell_type": "markdown",
      "metadata": {
        "id": "2CDcANqEj4cI"
      },
      "source": [
        "Our next constraints require the total flow along arcs entering a customer to be equal to the demand from that customer."
      ]
    },
    {
      "cell_type": "code",
      "execution_count": 106,
      "metadata": {
        "id": "_ZtGfIVDj4cJ"
      },
      "outputs": [],
      "source": [
        "# Customer demand\n",
        "\n",
        "customers = demand.keys()\n",
        "customer_flow = model.addConstrs((gp.quicksum(flow.select('*', customer)) == demand[customer]\n",
        "                                  for customer in customers), name=\"customer\")"
      ]
    },
    {
      "cell_type": "markdown",
      "metadata": {
        "id": "tAkLpghyj4cJ"
      },
      "source": [
        "Our final constraints relate to depots.  The first constraints require that the total amount of product entering the depot must equal the total amount leaving."
      ]
    },
    {
      "cell_type": "code",
      "execution_count": 107,
      "metadata": {
        "id": "ZVHaxHLOj4cJ"
      },
      "outputs": [],
      "source": [
        "# Depot flow conservation\n",
        "\n",
        "depot_flow = model.addConstrs((gp.quicksum(flow.select(depot, '*')) == gp.quicksum(flow.select('*', depot))\n",
        "                               for depot in depots), name=\"depot\")"
      ]
    },
    {
      "cell_type": "markdown",
      "metadata": {
        "id": "mNi3NC4Pj4cJ"
      },
      "source": [
        "The second set limits the product passing through the depot to be at most equal the throughput of that deport, or 0 if the depot isn't open."
      ]
    },
    {
      "cell_type": "code",
      "execution_count": 108,
      "metadata": {
        "id": "ydDwt5iHj4cK"
      },
      "outputs": [],
      "source": [
        "# Depot throughput\n",
        "\n",
        "all_but_birmingham = list(set(depots) - set(['Birmingham']))\n",
        "\n",
        "depot_capacity = model.addConstrs((gp.quicksum(flow.select(depot, '*')) <= through[depot]*open[depot]\n",
        "                                   for depot in all_but_birmingham), name=\"depot_capacity\")\n"
      ]
    },
    {
      "cell_type": "markdown",
      "metadata": {
        "id": "RkZC8NWDj4cK"
      },
      "source": [
        "The capacity constraint for Birmingham is different.  The depot is always open, but we have the option of expanding its capacity."
      ]
    },
    {
      "cell_type": "code",
      "execution_count": 109,
      "metadata": {
        "id": "B-7G7iM3j4cK"
      },
      "outputs": [],
      "source": [
        "birmingham_capacity = model.addConstr(gp.quicksum(flow.select('*', 'Birmingham')) <= through['Birmingham'] +\n",
        "                                      20000*expand, name=\"birmingham_capacity\")"
      ]
    },
    {
      "cell_type": "markdown",
      "metadata": {
        "id": "ltxZOkVCj4cK"
      },
      "source": [
        "Finally, there's a limit of at most 4 open depots"
      ]
    },
    {
      "cell_type": "code",
      "execution_count": 110,
      "metadata": {
        "id": "dEFD_lHyj4cK"
      },
      "outputs": [],
      "source": [
        "# Depot count\n",
        "\n",
        "depot_count = model.addConstr(open.sum() <= 4)"
      ]
    },
    {
      "cell_type": "markdown",
      "metadata": {
        "id": "UlwHYin-j4cK"
      },
      "source": [
        "We now optimize the model"
      ]
    },
    {
      "cell_type": "code",
      "execution_count": 111,
      "metadata": {
        "colab": {
          "base_uri": "https://localhost:8080/",
          "height": 0
        },
        "id": "VeCWzjRcj4cL",
        "outputId": "e2929fef-1c9a-4881-f0bc-54b972b192ec"
      },
      "outputs": [
        {
          "output_type": "stream",
          "name": "stdout",
          "text": [
            "Gurobi Optimizer version 12.0.2 build v12.0.2rc0 (linux64 - \"Ubuntu 22.04.4 LTS\")\n",
            "\n",
            "CPU model: Intel(R) Xeon(R) CPU @ 2.20GHz, instruction set [SSE2|AVX|AVX2]\n",
            "Thread count: 1 physical cores, 2 logical processors, using up to 2 threads\n",
            "\n",
            "Optimize a model with 21 rows, 49 columns and 119 nonzeros\n",
            "Model fingerprint: 0xc5cfed62\n",
            "Variable types: 42 continuous, 7 integer (7 binary)\n",
            "Coefficient statistics:\n",
            "  Matrix range     [1e+00, 1e+05]\n",
            "  Objective range  [2e-01, 1e+04]\n",
            "  Bounds range     [1e+00, 1e+00]\n",
            "  RHS range        [4e+00, 2e+05]\n",
            "Presolve removed 1 rows and 2 columns\n",
            "Presolve time: 0.00s\n",
            "Presolved: 20 rows, 47 columns, 113 nonzeros\n",
            "Variable types: 42 continuous, 5 integer (5 binary)\n",
            "Found heuristic solution: objective 174000.00000\n",
            "\n",
            "Root relaxation: cutoff, 19 iterations, 0.00 seconds (0.00 work units)\n",
            "\n",
            "    Nodes    |    Current Node    |     Objective Bounds      |     Work\n",
            " Expl Unexpl |  Obj  Depth IntInf | Incumbent    BestBd   Gap | It/Node Time\n",
            "\n",
            "     0     0     cutoff    0      174000.000 174000.000  0.00%     -    0s\n",
            "\n",
            "Explored 1 nodes (19 simplex iterations) in 0.02 seconds (0.00 work units)\n",
            "Thread count was 2 (of 2 available processors)\n",
            "\n",
            "Solution count 1: 174000 \n",
            "\n",
            "Optimal solution found (tolerance 1.00e-04)\n",
            "Best objective 1.740000000000e+05, best bound 1.740000000000e+05, gap 0.0000%\n"
          ]
        }
      ],
      "source": [
        "model.optimize()"
      ]
    },
    {
      "cell_type": "markdown",
      "metadata": {
        "id": "8ZYXsM8Oj4cL"
      },
      "source": [
        "---\n",
        "## Analysis\n",
        "\n",
        "The product demand from all of our customers can be satisfied for a total cost of $\\$174,000$ by opening a depot in Northampton, closing the depot in Newcastle, and expanding the depot in Birmingham:"
      ]
    },
    {
      "cell_type": "code",
      "execution_count": 112,
      "metadata": {
        "colab": {
          "base_uri": "https://localhost:8080/",
          "height": 0
        },
        "id": "toUvFp6ej4cL",
        "outputId": "838b0a82-89ba-467f-e3dc-37f1e4fe325b"
      },
      "outputs": [
        {
          "output_type": "stream",
          "name": "stdout",
          "text": [
            "List of open depots: ['Birmingham', 'London', 'Exeter', 'Northampton']\n",
            "Expand Birmingham\n"
          ]
        }
      ],
      "source": [
        "print('List of open depots:', [d for d in depots if open[d].x > 0.5])\n",
        "if expand.x > 0.5:\n",
        "    print('Expand Birmingham')"
      ]
    },
    {
      "cell_type": "code",
      "execution_count": 113,
      "metadata": {
        "colab": {
          "base_uri": "https://localhost:8080/",
          "height": 426
        },
        "id": "k2Z4Fz8_j4cL",
        "outputId": "20ed748e-ad86-44cc-c042-456fff57291e"
      },
      "outputs": [
        {
          "output_type": "execute_result",
          "data": {
            "text/plain": [
              "         From           To     Flow\n",
              "    Liverpool           C1  50000.0\n",
              "    Liverpool           C6  20000.0\n",
              "     Brighton   Birmingham  70000.0\n",
              "     Brighton       London  10000.0\n",
              "     Brighton       Exeter  40000.0\n",
              "     Brighton  Northampton  25000.0\n",
              "   Birmingham           C2  10000.0\n",
              "   Birmingham           C4  10000.0\n",
              "   Birmingham           C5  50000.0\n",
              "       London           C5  10000.0\n",
              "       Exeter           C3  40000.0\n",
              "  Northampton           C4  25000.0"
            ],
            "text/html": [
              "\n",
              "  <div id=\"df-c09fb595-25e9-4087-bcd8-1ff87c71e2bd\" class=\"colab-df-container\">\n",
              "    <div>\n",
              "<style scoped>\n",
              "    .dataframe tbody tr th:only-of-type {\n",
              "        vertical-align: middle;\n",
              "    }\n",
              "\n",
              "    .dataframe tbody tr th {\n",
              "        vertical-align: top;\n",
              "    }\n",
              "\n",
              "    .dataframe thead th {\n",
              "        text-align: right;\n",
              "    }\n",
              "</style>\n",
              "<table border=\"1\" class=\"dataframe\">\n",
              "  <thead>\n",
              "    <tr style=\"text-align: right;\">\n",
              "      <th></th>\n",
              "      <th>From</th>\n",
              "      <th>To</th>\n",
              "      <th>Flow</th>\n",
              "    </tr>\n",
              "  </thead>\n",
              "  <tbody>\n",
              "    <tr>\n",
              "      <th></th>\n",
              "      <td>Liverpool</td>\n",
              "      <td>C1</td>\n",
              "      <td>50000.0</td>\n",
              "    </tr>\n",
              "    <tr>\n",
              "      <th></th>\n",
              "      <td>Liverpool</td>\n",
              "      <td>C6</td>\n",
              "      <td>20000.0</td>\n",
              "    </tr>\n",
              "    <tr>\n",
              "      <th></th>\n",
              "      <td>Brighton</td>\n",
              "      <td>Birmingham</td>\n",
              "      <td>70000.0</td>\n",
              "    </tr>\n",
              "    <tr>\n",
              "      <th></th>\n",
              "      <td>Brighton</td>\n",
              "      <td>London</td>\n",
              "      <td>10000.0</td>\n",
              "    </tr>\n",
              "    <tr>\n",
              "      <th></th>\n",
              "      <td>Brighton</td>\n",
              "      <td>Exeter</td>\n",
              "      <td>40000.0</td>\n",
              "    </tr>\n",
              "    <tr>\n",
              "      <th></th>\n",
              "      <td>Brighton</td>\n",
              "      <td>Northampton</td>\n",
              "      <td>25000.0</td>\n",
              "    </tr>\n",
              "    <tr>\n",
              "      <th></th>\n",
              "      <td>Birmingham</td>\n",
              "      <td>C2</td>\n",
              "      <td>10000.0</td>\n",
              "    </tr>\n",
              "    <tr>\n",
              "      <th></th>\n",
              "      <td>Birmingham</td>\n",
              "      <td>C4</td>\n",
              "      <td>10000.0</td>\n",
              "    </tr>\n",
              "    <tr>\n",
              "      <th></th>\n",
              "      <td>Birmingham</td>\n",
              "      <td>C5</td>\n",
              "      <td>50000.0</td>\n",
              "    </tr>\n",
              "    <tr>\n",
              "      <th></th>\n",
              "      <td>London</td>\n",
              "      <td>C5</td>\n",
              "      <td>10000.0</td>\n",
              "    </tr>\n",
              "    <tr>\n",
              "      <th></th>\n",
              "      <td>Exeter</td>\n",
              "      <td>C3</td>\n",
              "      <td>40000.0</td>\n",
              "    </tr>\n",
              "    <tr>\n",
              "      <th></th>\n",
              "      <td>Northampton</td>\n",
              "      <td>C4</td>\n",
              "      <td>25000.0</td>\n",
              "    </tr>\n",
              "  </tbody>\n",
              "</table>\n",
              "</div>\n",
              "    <div class=\"colab-df-buttons\">\n",
              "\n",
              "  <div class=\"colab-df-container\">\n",
              "    <button class=\"colab-df-convert\" onclick=\"convertToInteractive('df-c09fb595-25e9-4087-bcd8-1ff87c71e2bd')\"\n",
              "            title=\"Convert this dataframe to an interactive table.\"\n",
              "            style=\"display:none;\">\n",
              "\n",
              "  <svg xmlns=\"http://www.w3.org/2000/svg\" height=\"24px\" viewBox=\"0 -960 960 960\">\n",
              "    <path d=\"M120-120v-720h720v720H120Zm60-500h600v-160H180v160Zm220 220h160v-160H400v160Zm0 220h160v-160H400v160ZM180-400h160v-160H180v160Zm440 0h160v-160H620v160ZM180-180h160v-160H180v160Zm440 0h160v-160H620v160Z\"/>\n",
              "  </svg>\n",
              "    </button>\n",
              "\n",
              "  <style>\n",
              "    .colab-df-container {\n",
              "      display:flex;\n",
              "      gap: 12px;\n",
              "    }\n",
              "\n",
              "    .colab-df-convert {\n",
              "      background-color: #E8F0FE;\n",
              "      border: none;\n",
              "      border-radius: 50%;\n",
              "      cursor: pointer;\n",
              "      display: none;\n",
              "      fill: #1967D2;\n",
              "      height: 32px;\n",
              "      padding: 0 0 0 0;\n",
              "      width: 32px;\n",
              "    }\n",
              "\n",
              "    .colab-df-convert:hover {\n",
              "      background-color: #E2EBFA;\n",
              "      box-shadow: 0px 1px 2px rgba(60, 64, 67, 0.3), 0px 1px 3px 1px rgba(60, 64, 67, 0.15);\n",
              "      fill: #174EA6;\n",
              "    }\n",
              "\n",
              "    .colab-df-buttons div {\n",
              "      margin-bottom: 4px;\n",
              "    }\n",
              "\n",
              "    [theme=dark] .colab-df-convert {\n",
              "      background-color: #3B4455;\n",
              "      fill: #D2E3FC;\n",
              "    }\n",
              "\n",
              "    [theme=dark] .colab-df-convert:hover {\n",
              "      background-color: #434B5C;\n",
              "      box-shadow: 0px 1px 3px 1px rgba(0, 0, 0, 0.15);\n",
              "      filter: drop-shadow(0px 1px 2px rgba(0, 0, 0, 0.3));\n",
              "      fill: #FFFFFF;\n",
              "    }\n",
              "  </style>\n",
              "\n",
              "    <script>\n",
              "      const buttonEl =\n",
              "        document.querySelector('#df-c09fb595-25e9-4087-bcd8-1ff87c71e2bd button.colab-df-convert');\n",
              "      buttonEl.style.display =\n",
              "        google.colab.kernel.accessAllowed ? 'block' : 'none';\n",
              "\n",
              "      async function convertToInteractive(key) {\n",
              "        const element = document.querySelector('#df-c09fb595-25e9-4087-bcd8-1ff87c71e2bd');\n",
              "        const dataTable =\n",
              "          await google.colab.kernel.invokeFunction('convertToInteractive',\n",
              "                                                    [key], {});\n",
              "        if (!dataTable) return;\n",
              "\n",
              "        const docLinkHtml = 'Like what you see? Visit the ' +\n",
              "          '<a target=\"_blank\" href=https://colab.research.google.com/notebooks/data_table.ipynb>data table notebook</a>'\n",
              "          + ' to learn more about interactive tables.';\n",
              "        element.innerHTML = '';\n",
              "        dataTable['output_type'] = 'display_data';\n",
              "        await google.colab.output.renderOutput(dataTable, element);\n",
              "        const docLink = document.createElement('div');\n",
              "        docLink.innerHTML = docLinkHtml;\n",
              "        element.appendChild(docLink);\n",
              "      }\n",
              "    </script>\n",
              "  </div>\n",
              "\n",
              "\n",
              "    <div id=\"df-8d807ea9-3fb1-4a23-87f4-f6ce67019d11\">\n",
              "      <button class=\"colab-df-quickchart\" onclick=\"quickchart('df-8d807ea9-3fb1-4a23-87f4-f6ce67019d11')\"\n",
              "                title=\"Suggest charts\"\n",
              "                style=\"display:none;\">\n",
              "\n",
              "<svg xmlns=\"http://www.w3.org/2000/svg\" height=\"24px\"viewBox=\"0 0 24 24\"\n",
              "     width=\"24px\">\n",
              "    <g>\n",
              "        <path d=\"M19 3H5c-1.1 0-2 .9-2 2v14c0 1.1.9 2 2 2h14c1.1 0 2-.9 2-2V5c0-1.1-.9-2-2-2zM9 17H7v-7h2v7zm4 0h-2V7h2v10zm4 0h-2v-4h2v4z\"/>\n",
              "    </g>\n",
              "</svg>\n",
              "      </button>\n",
              "\n",
              "<style>\n",
              "  .colab-df-quickchart {\n",
              "      --bg-color: #E8F0FE;\n",
              "      --fill-color: #1967D2;\n",
              "      --hover-bg-color: #E2EBFA;\n",
              "      --hover-fill-color: #174EA6;\n",
              "      --disabled-fill-color: #AAA;\n",
              "      --disabled-bg-color: #DDD;\n",
              "  }\n",
              "\n",
              "  [theme=dark] .colab-df-quickchart {\n",
              "      --bg-color: #3B4455;\n",
              "      --fill-color: #D2E3FC;\n",
              "      --hover-bg-color: #434B5C;\n",
              "      --hover-fill-color: #FFFFFF;\n",
              "      --disabled-bg-color: #3B4455;\n",
              "      --disabled-fill-color: #666;\n",
              "  }\n",
              "\n",
              "  .colab-df-quickchart {\n",
              "    background-color: var(--bg-color);\n",
              "    border: none;\n",
              "    border-radius: 50%;\n",
              "    cursor: pointer;\n",
              "    display: none;\n",
              "    fill: var(--fill-color);\n",
              "    height: 32px;\n",
              "    padding: 0;\n",
              "    width: 32px;\n",
              "  }\n",
              "\n",
              "  .colab-df-quickchart:hover {\n",
              "    background-color: var(--hover-bg-color);\n",
              "    box-shadow: 0 1px 2px rgba(60, 64, 67, 0.3), 0 1px 3px 1px rgba(60, 64, 67, 0.15);\n",
              "    fill: var(--button-hover-fill-color);\n",
              "  }\n",
              "\n",
              "  .colab-df-quickchart-complete:disabled,\n",
              "  .colab-df-quickchart-complete:disabled:hover {\n",
              "    background-color: var(--disabled-bg-color);\n",
              "    fill: var(--disabled-fill-color);\n",
              "    box-shadow: none;\n",
              "  }\n",
              "\n",
              "  .colab-df-spinner {\n",
              "    border: 2px solid var(--fill-color);\n",
              "    border-color: transparent;\n",
              "    border-bottom-color: var(--fill-color);\n",
              "    animation:\n",
              "      spin 1s steps(1) infinite;\n",
              "  }\n",
              "\n",
              "  @keyframes spin {\n",
              "    0% {\n",
              "      border-color: transparent;\n",
              "      border-bottom-color: var(--fill-color);\n",
              "      border-left-color: var(--fill-color);\n",
              "    }\n",
              "    20% {\n",
              "      border-color: transparent;\n",
              "      border-left-color: var(--fill-color);\n",
              "      border-top-color: var(--fill-color);\n",
              "    }\n",
              "    30% {\n",
              "      border-color: transparent;\n",
              "      border-left-color: var(--fill-color);\n",
              "      border-top-color: var(--fill-color);\n",
              "      border-right-color: var(--fill-color);\n",
              "    }\n",
              "    40% {\n",
              "      border-color: transparent;\n",
              "      border-right-color: var(--fill-color);\n",
              "      border-top-color: var(--fill-color);\n",
              "    }\n",
              "    60% {\n",
              "      border-color: transparent;\n",
              "      border-right-color: var(--fill-color);\n",
              "    }\n",
              "    80% {\n",
              "      border-color: transparent;\n",
              "      border-right-color: var(--fill-color);\n",
              "      border-bottom-color: var(--fill-color);\n",
              "    }\n",
              "    90% {\n",
              "      border-color: transparent;\n",
              "      border-bottom-color: var(--fill-color);\n",
              "    }\n",
              "  }\n",
              "</style>\n",
              "\n",
              "      <script>\n",
              "        async function quickchart(key) {\n",
              "          const quickchartButtonEl =\n",
              "            document.querySelector('#' + key + ' button');\n",
              "          quickchartButtonEl.disabled = true;  // To prevent multiple clicks.\n",
              "          quickchartButtonEl.classList.add('colab-df-spinner');\n",
              "          try {\n",
              "            const charts = await google.colab.kernel.invokeFunction(\n",
              "                'suggestCharts', [key], {});\n",
              "          } catch (error) {\n",
              "            console.error('Error during call to suggestCharts:', error);\n",
              "          }\n",
              "          quickchartButtonEl.classList.remove('colab-df-spinner');\n",
              "          quickchartButtonEl.classList.add('colab-df-quickchart-complete');\n",
              "        }\n",
              "        (() => {\n",
              "          let quickchartButtonEl =\n",
              "            document.querySelector('#df-8d807ea9-3fb1-4a23-87f4-f6ce67019d11 button');\n",
              "          quickchartButtonEl.style.display =\n",
              "            google.colab.kernel.accessAllowed ? 'block' : 'none';\n",
              "        })();\n",
              "      </script>\n",
              "    </div>\n",
              "\n",
              "  <div id=\"id_c3a12ffb-6ed2-47a4-8eb7-a8e527793195\">\n",
              "    <style>\n",
              "      .colab-df-generate {\n",
              "        background-color: #E8F0FE;\n",
              "        border: none;\n",
              "        border-radius: 50%;\n",
              "        cursor: pointer;\n",
              "        display: none;\n",
              "        fill: #1967D2;\n",
              "        height: 32px;\n",
              "        padding: 0 0 0 0;\n",
              "        width: 32px;\n",
              "      }\n",
              "\n",
              "      .colab-df-generate:hover {\n",
              "        background-color: #E2EBFA;\n",
              "        box-shadow: 0px 1px 2px rgba(60, 64, 67, 0.3), 0px 1px 3px 1px rgba(60, 64, 67, 0.15);\n",
              "        fill: #174EA6;\n",
              "      }\n",
              "\n",
              "      [theme=dark] .colab-df-generate {\n",
              "        background-color: #3B4455;\n",
              "        fill: #D2E3FC;\n",
              "      }\n",
              "\n",
              "      [theme=dark] .colab-df-generate:hover {\n",
              "        background-color: #434B5C;\n",
              "        box-shadow: 0px 1px 3px 1px rgba(0, 0, 0, 0.15);\n",
              "        filter: drop-shadow(0px 1px 2px rgba(0, 0, 0, 0.3));\n",
              "        fill: #FFFFFF;\n",
              "      }\n",
              "    </style>\n",
              "    <button class=\"colab-df-generate\" onclick=\"generateWithVariable('product_flow')\"\n",
              "            title=\"Generate code using this dataframe.\"\n",
              "            style=\"display:none;\">\n",
              "\n",
              "  <svg xmlns=\"http://www.w3.org/2000/svg\" height=\"24px\"viewBox=\"0 0 24 24\"\n",
              "       width=\"24px\">\n",
              "    <path d=\"M7,19H8.4L18.45,9,17,7.55,7,17.6ZM5,21V16.75L18.45,3.32a2,2,0,0,1,2.83,0l1.4,1.43a1.91,1.91,0,0,1,.58,1.4,1.91,1.91,0,0,1-.58,1.4L9.25,21ZM18.45,9,17,7.55Zm-12,3A5.31,5.31,0,0,0,4.9,8.1,5.31,5.31,0,0,0,1,6.5,5.31,5.31,0,0,0,4.9,4.9,5.31,5.31,0,0,0,6.5,1,5.31,5.31,0,0,0,8.1,4.9,5.31,5.31,0,0,0,12,6.5,5.46,5.46,0,0,0,6.5,12Z\"/>\n",
              "  </svg>\n",
              "    </button>\n",
              "    <script>\n",
              "      (() => {\n",
              "      const buttonEl =\n",
              "        document.querySelector('#id_c3a12ffb-6ed2-47a4-8eb7-a8e527793195 button.colab-df-generate');\n",
              "      buttonEl.style.display =\n",
              "        google.colab.kernel.accessAllowed ? 'block' : 'none';\n",
              "\n",
              "      buttonEl.onclick = () => {\n",
              "        google.colab.notebook.generateWithVariable('product_flow');\n",
              "      }\n",
              "      })();\n",
              "    </script>\n",
              "  </div>\n",
              "\n",
              "    </div>\n",
              "  </div>\n"
            ],
            "application/vnd.google.colaboratory.intrinsic+json": {
              "type": "dataframe",
              "variable_name": "product_flow",
              "summary": "{\n  \"name\": \"product_flow\",\n  \"rows\": 12,\n  \"fields\": [\n    {\n      \"column\": \"From\",\n      \"properties\": {\n        \"dtype\": \"string\",\n        \"num_unique_values\": 6,\n        \"samples\": [\n          \"Liverpool\",\n          \"Brighton\",\n          \"Northampton\"\n        ],\n        \"semantic_type\": \"\",\n        \"description\": \"\"\n      }\n    },\n    {\n      \"column\": \"To\",\n      \"properties\": {\n        \"dtype\": \"string\",\n        \"num_unique_values\": 10,\n        \"samples\": [\n          \"C5\",\n          \"C6\",\n          \"Northampton\"\n        ],\n        \"semantic_type\": \"\",\n        \"description\": \"\"\n      }\n    },\n    {\n      \"column\": \"Flow\",\n      \"properties\": {\n        \"dtype\": \"number\",\n        \"std\": 19886.038958388508,\n        \"min\": 10000.0,\n        \"max\": 70000.0,\n        \"num_unique_values\": 6,\n        \"samples\": [\n          50000.0,\n          20000.0,\n          25000.0\n        ],\n        \"semantic_type\": \"\",\n        \"description\": \"\"\n      }\n    }\n  ]\n}"
            }
          },
          "metadata": {},
          "execution_count": 113
        }
      ],
      "source": [
        "product_flow = pd.DataFrame(\n",
        "    [{\"From\": arc[0], \"To\": arc[1], \"Flow\": flow[arc].x} for arc in arcs if flow[arc].x > 1e-6]\n",
        ")\n",
        "product_flow.index=[''] * len(product_flow)\n",
        "product_flow"
      ]
    },
    {
      "cell_type": "markdown",
      "source": [
        "\n",
        "---\n",
        "## Problem 2, (a)\n",
        "\n",
        "Add the constraint that if depot in Exeter is open, then depot in Northampton should be closed\n"
      ],
      "metadata": {
        "id": "OsW8DvNgkU2e"
      }
    },
    {
      "cell_type": "code",
      "source": [
        "# If the depot in Exeter open, then depot in Northampton closed\n",
        "depot_exeter_northampton = model.addConstr(open[\"Exeter\"] <= 1 - open[\"Northampton\"])"
      ],
      "metadata": {
        "id": "xfa64AOHkS_y"
      },
      "execution_count": 114,
      "outputs": []
    },
    {
      "cell_type": "code",
      "source": [
        "model.optimize()"
      ],
      "metadata": {
        "colab": {
          "base_uri": "https://localhost:8080/",
          "height": 0
        },
        "id": "4PNlykKElbyU",
        "outputId": "6c2614e0-cc1c-447c-f3e0-7171d5d54a47"
      },
      "execution_count": 115,
      "outputs": [
        {
          "output_type": "stream",
          "name": "stdout",
          "text": [
            "Gurobi Optimizer version 12.0.2 build v12.0.2rc0 (linux64 - \"Ubuntu 22.04.4 LTS\")\n",
            "\n",
            "CPU model: Intel(R) Xeon(R) CPU @ 2.20GHz, instruction set [SSE2|AVX|AVX2]\n",
            "Thread count: 1 physical cores, 2 logical processors, using up to 2 threads\n",
            "\n",
            "Optimize a model with 22 rows, 49 columns and 121 nonzeros\n",
            "Model fingerprint: 0x9e5e1810\n",
            "Variable types: 42 continuous, 7 integer (7 binary)\n",
            "Coefficient statistics:\n",
            "  Matrix range     [1e+00, 1e+05]\n",
            "  Objective range  [2e-01, 1e+04]\n",
            "  Bounds range     [1e+00, 1e+00]\n",
            "  RHS range        [1e+00, 2e+05]\n",
            "\n",
            "MIP start from previous solve did not produce a new incumbent solution\n",
            "MIP start from previous solve violates constraint R21 by 1.000000000\n",
            "\n",
            "Presolve removed 1 rows and 2 columns\n",
            "Presolve time: 0.00s\n",
            "Presolved: 21 rows, 47 columns, 115 nonzeros\n",
            "Variable types: 42 continuous, 5 integer (5 binary)\n",
            "Found heuristic solution: objective 196000.00000\n",
            "Found heuristic solution: objective 187500.00000\n",
            "\n",
            "Root relaxation: cutoff, 21 iterations, 0.00 seconds (0.00 work units)\n",
            "\n",
            "    Nodes    |    Current Node    |     Objective Bounds      |     Work\n",
            " Expl Unexpl |  Obj  Depth IntInf | Incumbent    BestBd   Gap | It/Node Time\n",
            "\n",
            "     0     0     cutoff    0      187500.000 187500.000  0.00%     -    0s\n",
            "\n",
            "Explored 1 nodes (21 simplex iterations) in 0.02 seconds (0.00 work units)\n",
            "Thread count was 2 (of 2 available processors)\n",
            "\n",
            "Solution count 2: 187500 196000 \n",
            "\n",
            "Optimal solution found (tolerance 1.00e-04)\n",
            "Best objective 1.875000000000e+05, best bound 1.875000000000e+05, gap 0.0000%\n"
          ]
        }
      ]
    },
    {
      "cell_type": "code",
      "source": [
        "print('List of open depots:', [d for d in depots if open[d].x > 0.5])\n",
        "if expand.x > 0.5:\n",
        "    print('Expand Birmingham')"
      ],
      "metadata": {
        "colab": {
          "base_uri": "https://localhost:8080/",
          "height": 0
        },
        "id": "2NLWvBM1lUsh",
        "outputId": "b6304207-7956-4617-a4e5-631952b350dc"
      },
      "execution_count": 116,
      "outputs": [
        {
          "output_type": "stream",
          "name": "stdout",
          "text": [
            "List of open depots: ['Birmingham', 'London', 'Exeter']\n",
            "Expand Birmingham\n"
          ]
        }
      ]
    },
    {
      "cell_type": "code",
      "source": [
        "if model.status == GRB.OPTIMAL:\n",
        "    print(\"Optimal objective value:\", model.ObjVal)\n",
        "else:\n",
        "    print(\"No optimal solution found.\")"
      ],
      "metadata": {
        "colab": {
          "base_uri": "https://localhost:8080/",
          "height": 0
        },
        "id": "lr1N33Gal4pN",
        "outputId": "0ba309ba-97d5-47a5-f080-bc576fee4998"
      },
      "execution_count": 117,
      "outputs": [
        {
          "output_type": "stream",
          "name": "stdout",
          "text": [
            "Optimal objective value: 187500.0\n"
          ]
        }
      ]
    },
    {
      "cell_type": "markdown",
      "source": [
        "Clean"
      ],
      "metadata": {
        "id": "02Z00BrgIc08"
      }
    },
    {
      "cell_type": "code",
      "source": [
        "# Remove the added constraint, so that next example works with the initial model\n",
        "model.remove(depot_exeter_northampton)"
      ],
      "metadata": {
        "id": "hgRwlfPBIcPZ"
      },
      "execution_count": 119,
      "outputs": []
    },
    {
      "cell_type": "markdown",
      "source": [
        "---\n",
        "## Problem 2, (b)\n",
        "\n",
        "Add the constraint that either at most 3 depots or exactly all 5 depots (including the depots in Birmingham and London) should be opened.<br>\n",
        "\n",
        "Create a binary variable, which is 0 if at most 3 depots are opened and 1 if 5 depots are opened.\n"
      ],
      "metadata": {
        "id": "zH4Hvu5RmT-T"
      }
    },
    {
      "cell_type": "code",
      "source": [
        "# First remove the initial depot_count constraint of maximum 4 open depots\n",
        "model.remove(depot_count)\n",
        "\n",
        "# Create a binary variable open_3_or_5, which is 0 if at most 3 are opened and 1 otherwise\n",
        "open_3_or_5 = model.addVar(vtype=GRB.BINARY, name=\"open_3_or_5\")\n",
        "\n",
        "# Add constraints\n",
        "open_3_or_5_first_constraint = model.addConstr(open.sum() <= 3 + 2 * open_3_or_5)\n",
        "open_3_or_5_second_constraint = model.addConstr(open.sum() >= 5 * open_3_or_5)"
      ],
      "metadata": {
        "id": "Cxik3RcdnEMa"
      },
      "execution_count": 120,
      "outputs": []
    },
    {
      "cell_type": "code",
      "source": [
        "model.optimize()"
      ],
      "metadata": {
        "colab": {
          "base_uri": "https://localhost:8080/",
          "height": 0
        },
        "id": "67PB1V7UZ5RN",
        "outputId": "388a3a55-07d3-426a-8dfa-36abe8987ba0"
      },
      "execution_count": 121,
      "outputs": [
        {
          "output_type": "stream",
          "name": "stdout",
          "text": [
            "Gurobi Optimizer version 12.0.2 build v12.0.2rc0 (linux64 - \"Ubuntu 22.04.4 LTS\")\n",
            "\n",
            "CPU model: Intel(R) Xeon(R) CPU @ 2.20GHz, instruction set [SSE2|AVX|AVX2]\n",
            "Thread count: 1 physical cores, 2 logical processors, using up to 2 threads\n",
            "\n",
            "Optimize a model with 22 rows, 50 columns and 127 nonzeros\n",
            "Model fingerprint: 0xf4638c95\n",
            "Variable types: 42 continuous, 8 integer (8 binary)\n",
            "Coefficient statistics:\n",
            "  Matrix range     [1e+00, 1e+05]\n",
            "  Objective range  [2e-01, 1e+04]\n",
            "  Bounds range     [1e+00, 1e+00]\n",
            "  RHS range        [3e+00, 2e+05]\n",
            "\n",
            "MIP start from previous solve produced solution with objective 187500 (0.01s)\n",
            "Loaded MIP start from previous solve with objective 187500\n",
            "\n",
            "Presolve removed 1 rows and 2 columns\n",
            "Presolve time: 0.00s\n",
            "Presolved: 21 rows, 48 columns, 119 nonzeros\n",
            "Variable types: 42 continuous, 6 integer (6 binary)\n",
            "\n",
            "Root relaxation: objective 1.740000e+05, 20 iterations, 0.00 seconds (0.00 work units)\n",
            "\n",
            "    Nodes    |    Current Node    |     Objective Bounds      |     Work\n",
            " Expl Unexpl |  Obj  Depth IntInf | Incumbent    BestBd   Gap | It/Node Time\n",
            "\n",
            "     0     0 174000.000    0    1 187500.000 174000.000  7.20%     -    0s\n",
            "H    0     0                    181000.00000 174000.000  3.87%     -    0s\n",
            "H    0     0                    178000.00000 174000.000  2.25%     -    0s\n",
            "     0     0     cutoff    0      178000.000 178000.000  0.00%     -    0s\n",
            "\n",
            "Explored 1 nodes (20 simplex iterations) in 0.02 seconds (0.00 work units)\n",
            "Thread count was 2 (of 2 available processors)\n",
            "\n",
            "Solution count 3: 178000 181000 187500 \n",
            "\n",
            "Optimal solution found (tolerance 1.00e-04)\n",
            "Best objective 1.780000000000e+05, best bound 1.780000000000e+05, gap 0.0000%\n"
          ]
        }
      ]
    },
    {
      "cell_type": "code",
      "source": [
        "print('List of open depots:', [d for d in depots if open[d].x > 0.5])\n",
        "if expand.x > 0.5:\n",
        "    print('Expand Birmingham')"
      ],
      "metadata": {
        "colab": {
          "base_uri": "https://localhost:8080/",
          "height": 0
        },
        "id": "spBBURMNZ9L9",
        "outputId": "43bc62bb-6209-4833-946b-e6e493eb2353"
      },
      "execution_count": 122,
      "outputs": [
        {
          "output_type": "stream",
          "name": "stdout",
          "text": [
            "List of open depots: ['Birmingham', 'London', 'Exeter', 'Bristol', 'Northampton']\n"
          ]
        }
      ]
    },
    {
      "cell_type": "code",
      "source": [
        "if model.status == GRB.OPTIMAL:\n",
        "    print(\"Optimal objective value:\", model.ObjVal)\n",
        "else:\n",
        "    print(\"No optimal solution found.\")"
      ],
      "metadata": {
        "colab": {
          "base_uri": "https://localhost:8080/",
          "height": 0
        },
        "id": "mFUXx1AyaD_S",
        "outputId": "facc2f81-5f4f-4414-93de-e1e8d4202a90"
      },
      "execution_count": 123,
      "outputs": [
        {
          "output_type": "stream",
          "name": "stdout",
          "text": [
            "Optimal objective value: 178000.0\n"
          ]
        }
      ]
    },
    {
      "cell_type": "markdown",
      "source": [
        "Clean"
      ],
      "metadata": {
        "id": "afuw9FU3EbU6"
      }
    },
    {
      "cell_type": "code",
      "source": [
        "# Remove constraints and additional vars, so that next example works with the initial model\n",
        "model.remove(open_3_or_5_first_constraint)\n",
        "model.remove(open_3_or_5_second_constraint)\n",
        "\n",
        "# Remove created binary variable\n",
        "model.remove(open_3_or_5)\n",
        "\n",
        "# Add the initial depot constraint\n",
        "depot_count = model.addConstr(open.sum() <= 4)"
      ],
      "metadata": {
        "id": "QHHzdrdnaQsq"
      },
      "execution_count": 124,
      "outputs": []
    },
    {
      "cell_type": "markdown",
      "metadata": {
        "id": "m878H2ASj4cM"
      },
      "source": [
        "---\n",
        "## Problem 2, (c)\n",
        "\n",
        "Add the constraint that if both Exeter and Northampton are open, then you need to pay an additional $40000.\n",
        "\n",
        "Create a binary variable, showing if both Exeter and Northampton are open. <br>\n",
        "Add the respective term to the objective function and add the required constraints\n"
      ]
    },
    {
      "cell_type": "code",
      "execution_count": 126,
      "metadata": {
        "id": "P9C0-kHRj4cM"
      },
      "outputs": [],
      "source": [
        "open_exeter_northampton = model.addVar(vtype=GRB.BINARY, name=\"open_exeter_northampton\")\n",
        "\n",
        "# Add the new constraints\n",
        "open_exeter_northampton_1 = model.addConstr(open_exeter_northampton <= open[\"Exeter\"])\n",
        "open_exeter_northampton_2 = model.addConstr(open_exeter_northampton <= open[\"Northampton\"])\n",
        "open_exeter_northampton_3 = model.addConstr(open_exeter_northampton >= open[\"Exeter\"] + open[\"Northampton\"] - 1)\n",
        "\n",
        "# Add the penalty if both depots are open\n",
        "model.setObjective(model.getObjective() + 40000 * open_exeter_northampton, GRB.MINIMIZE)"
      ]
    },
    {
      "cell_type": "code",
      "source": [
        "model.optimize()"
      ],
      "metadata": {
        "colab": {
          "base_uri": "https://localhost:8080/",
          "height": 0
        },
        "id": "UKMlau7IHiHf",
        "outputId": "5ca5858a-1c77-4403-d7dd-3353f80920fe"
      },
      "execution_count": 127,
      "outputs": [
        {
          "output_type": "stream",
          "name": "stdout",
          "text": [
            "Gurobi Optimizer version 12.0.2 build v12.0.2rc0 (linux64 - \"Ubuntu 22.04.4 LTS\")\n",
            "\n",
            "CPU model: Intel(R) Xeon(R) CPU @ 2.20GHz, instruction set [SSE2|AVX|AVX2]\n",
            "Thread count: 1 physical cores, 2 logical processors, using up to 2 threads\n",
            "\n",
            "Optimize a model with 24 rows, 50 columns and 126 nonzeros\n",
            "Model fingerprint: 0x92384d55\n",
            "Variable types: 42 continuous, 8 integer (8 binary)\n",
            "Coefficient statistics:\n",
            "  Matrix range     [1e+00, 1e+05]\n",
            "  Objective range  [2e-01, 4e+04]\n",
            "  Bounds range     [1e+00, 1e+00]\n",
            "  RHS range        [1e+00, 2e+05]\n",
            "\n",
            "MIP start from previous solve produced solution with objective 214000 (0.01s)\n",
            "Loaded MIP start from previous solve with objective 214000\n",
            "\n",
            "Presolve removed 3 rows and 2 columns\n",
            "Presolve time: 0.00s\n",
            "Presolved: 21 rows, 48 columns, 116 nonzeros\n",
            "Variable types: 42 continuous, 6 integer (6 binary)\n",
            "\n",
            "Root relaxation: objective 1.875000e+05, 22 iterations, 0.00 seconds (0.00 work units)\n",
            "\n",
            "    Nodes    |    Current Node    |     Objective Bounds      |     Work\n",
            " Expl Unexpl |  Obj  Depth IntInf | Incumbent    BestBd   Gap | It/Node Time\n",
            "\n",
            "*    0     0               0    187500.00000 187500.000  0.00%     -    0s\n",
            "\n",
            "Explored 1 nodes (22 simplex iterations) in 0.02 seconds (0.00 work units)\n",
            "Thread count was 2 (of 2 available processors)\n",
            "\n",
            "Solution count 2: 187500 214000 \n",
            "\n",
            "Optimal solution found (tolerance 1.00e-04)\n",
            "Best objective 1.875000000000e+05, best bound 1.875000000000e+05, gap 0.0000%\n"
          ]
        }
      ]
    },
    {
      "cell_type": "code",
      "source": [
        "print('List of open depots:', [d for d in depots if open[d].x > 0.5])\n",
        "if expand.x > 0.5:\n",
        "    print('Expand Birmingham')"
      ],
      "metadata": {
        "colab": {
          "base_uri": "https://localhost:8080/",
          "height": 0
        },
        "id": "qYqxH_qBHlR1",
        "outputId": "067f7a2b-d5db-4aa0-e680-ba987f319cf4"
      },
      "execution_count": 128,
      "outputs": [
        {
          "output_type": "stream",
          "name": "stdout",
          "text": [
            "List of open depots: ['Birmingham', 'London', 'Exeter']\n",
            "Expand Birmingham\n"
          ]
        }
      ]
    },
    {
      "cell_type": "code",
      "source": [
        "if model.status == GRB.OPTIMAL:\n",
        "    print(\"Optimal objective value:\", model.ObjVal)\n",
        "else:\n",
        "    print(\"No optimal solution found.\")"
      ],
      "metadata": {
        "colab": {
          "base_uri": "https://localhost:8080/",
          "height": 0
        },
        "id": "J6ElUCUIHnit",
        "outputId": "2544e0d1-758e-4ddc-a641-1e1f270f006e"
      },
      "execution_count": 129,
      "outputs": [
        {
          "output_type": "stream",
          "name": "stdout",
          "text": [
            "Optimal objective value: 187500.0\n"
          ]
        }
      ]
    },
    {
      "cell_type": "markdown",
      "source": [
        "Clean"
      ],
      "metadata": {
        "id": "0BHLC1TfbjX8"
      }
    },
    {
      "cell_type": "code",
      "source": [
        "# Remove added vars and constraints, so that next example works with initial model\n",
        "model.remove(open_exeter_northampton_1)\n",
        "model.remove(open_exeter_northampton_2)\n",
        "model.remove(open_exeter_northampton_3)\n",
        "\n",
        "# Remove the binary variable\n",
        "model.remove(open_exeter_northampton)\n",
        "\n",
        "# Remove the 40 000·open_exeter_northampton penalty\n",
        "model.setObjective(model.getObjective() - 40000 * open_exeter_northampton,\n",
        "                   GRB.MINIMIZE)"
      ],
      "metadata": {
        "id": "IUES68glbmvr"
      },
      "execution_count": 130,
      "outputs": []
    },
    {
      "cell_type": "markdown",
      "source": [
        "---\n",
        "## Problem 2, (d)\n",
        "\n",
        "Add the constraint that if the depot in Northampton is open, then the depot in Newcastle should also be open."
      ],
      "metadata": {
        "id": "YhUHMp-4b2YX"
      }
    },
    {
      "cell_type": "code",
      "source": [
        "open_northampton_newcastle = model.addConstr(open[\"Northampton\"] <= open[\"Newcastle\"])"
      ],
      "metadata": {
        "id": "5K1nK8gadDCb"
      },
      "execution_count": 132,
      "outputs": []
    },
    {
      "cell_type": "code",
      "source": [
        "model.optimize()"
      ],
      "metadata": {
        "colab": {
          "base_uri": "https://localhost:8080/",
          "height": 0
        },
        "id": "pGn_zB5ZdOPZ",
        "outputId": "0aa8430d-bf70-498a-aaa7-c311a977d32d"
      },
      "execution_count": 133,
      "outputs": [
        {
          "output_type": "stream",
          "name": "stdout",
          "text": [
            "Gurobi Optimizer version 12.0.2 build v12.0.2rc0 (linux64 - \"Ubuntu 22.04.4 LTS\")\n",
            "\n",
            "CPU model: Intel(R) Xeon(R) CPU @ 2.20GHz, instruction set [SSE2|AVX|AVX2]\n",
            "Thread count: 1 physical cores, 2 logical processors, using up to 2 threads\n",
            "\n",
            "Optimize a model with 22 rows, 49 columns and 121 nonzeros\n",
            "Model fingerprint: 0xd16529de\n",
            "Variable types: 42 continuous, 7 integer (7 binary)\n",
            "Coefficient statistics:\n",
            "  Matrix range     [1e+00, 1e+05]\n",
            "  Objective range  [2e-01, 1e+04]\n",
            "  Bounds range     [1e+00, 1e+00]\n",
            "  RHS range        [4e+00, 2e+05]\n",
            "\n",
            "MIP start from previous solve did not produce a new incumbent solution\n",
            "MIP start from previous solve violates constraint R28 by 1.000000000\n",
            "\n",
            "Presolve removed 1 rows and 2 columns\n",
            "Presolve time: 0.00s\n",
            "Presolved: 21 rows, 47 columns, 115 nonzeros\n",
            "Variable types: 42 continuous, 5 integer (5 binary)\n",
            "Found heuristic solution: objective 190500.00000\n",
            "Found heuristic solution: objective 187500.00000\n",
            "\n",
            "Root relaxation: objective 1.857500e+05, 23 iterations, 0.00 seconds (0.00 work units)\n",
            "\n",
            "    Nodes    |    Current Node    |     Objective Bounds      |     Work\n",
            " Expl Unexpl |  Obj  Depth IntInf | Incumbent    BestBd   Gap | It/Node Time\n",
            "\n",
            "     0     0 infeasible    0      187500.000 187500.000  0.00%     -    0s\n",
            "\n",
            "Explored 1 nodes (23 simplex iterations) in 0.03 seconds (0.00 work units)\n",
            "Thread count was 2 (of 2 available processors)\n",
            "\n",
            "Solution count 2: 187500 190500 \n",
            "\n",
            "Optimal solution found (tolerance 1.00e-04)\n",
            "Best objective 1.875000000000e+05, best bound 1.875000000000e+05, gap 0.0000%\n"
          ]
        }
      ]
    },
    {
      "cell_type": "code",
      "source": [
        "print('List of open depots:', [d for d in depots if open[d].x > 0.5])\n",
        "if expand.x > 0.5:\n",
        "    print('Expand Birmingham')"
      ],
      "metadata": {
        "colab": {
          "base_uri": "https://localhost:8080/",
          "height": 0
        },
        "id": "77GHrbepdVxG",
        "outputId": "13bccbd9-b292-4a9c-d2b0-39fb066e6011"
      },
      "execution_count": 134,
      "outputs": [
        {
          "output_type": "stream",
          "name": "stdout",
          "text": [
            "List of open depots: ['Birmingham', 'London', 'Exeter']\n",
            "Expand Birmingham\n"
          ]
        }
      ]
    },
    {
      "cell_type": "code",
      "source": [
        "if model.status == GRB.OPTIMAL:\n",
        "    print(\"Optimal objective value:\", model.ObjVal)\n",
        "else:\n",
        "    print(\"No optimal solution found.\")"
      ],
      "metadata": {
        "colab": {
          "base_uri": "https://localhost:8080/",
          "height": 0
        },
        "id": "bmMBE8o6dX__",
        "outputId": "a59d1798-c10f-4f27-bc8a-b91bbfeb3acf"
      },
      "execution_count": 135,
      "outputs": [
        {
          "output_type": "stream",
          "name": "stdout",
          "text": [
            "Optimal objective value: 187500.0\n"
          ]
        }
      ]
    },
    {
      "cell_type": "markdown",
      "source": [
        "Clean"
      ],
      "metadata": {
        "id": "-fJmguBzddqS"
      }
    },
    {
      "cell_type": "code",
      "source": [
        "# Remove added vars and constraints, so that next example works with initial model\n",
        "model.remove(open_northampton_newcastle)"
      ],
      "metadata": {
        "id": "4qHKl15-dfEV"
      },
      "execution_count": 136,
      "outputs": []
    },
    {
      "cell_type": "markdown",
      "source": [
        "---\n",
        "## Problem 2, (e)\n",
        "\n",
        "Add the constraint that if the depots in both Exeter and Northampton are open, then the depot in Newcastle should be opened as well.\n",
        "\n",
        "Create a binary variable, showing if both Exeter and Northampton are open. <br>"
      ],
      "metadata": {
        "id": "gYFyl5b0duCR"
      }
    },
    {
      "cell_type": "code",
      "source": [
        "open_exeter_northampton = model.addVar(vtype=GRB.BINARY, name=\"open_exeter_northampton\")\n",
        "\n",
        "open_exeter_northampton_1 = model.addConstr(open_exeter_northampton <= open[\"Exeter\"])\n",
        "open_exeter_northampton_2 = model.addConstr(open_exeter_northampton <= open[\"Northampton\"])\n",
        "open_exeter_northampton_3 = model.addConstr(open_exeter_northampton >= open[\"Exeter\"] + open[\"Northampton\"] - 1)\n",
        "\n",
        "# Add implication, that if both exeter and northampton are open, then newcastle should be as well\n",
        "open_exeter_northampton_newcastle = model.addConstr(open_exeter_northampton <= open[\"Newcastle\"])"
      ],
      "metadata": {
        "id": "tlCOD9aeeG4Q"
      },
      "execution_count": 138,
      "outputs": []
    },
    {
      "cell_type": "code",
      "source": [
        "model.optimize()"
      ],
      "metadata": {
        "colab": {
          "base_uri": "https://localhost:8080/",
          "height": 0
        },
        "id": "Oo10ujHHfU9h",
        "outputId": "4b90fff7-3b48-4295-e426-84b61e6ca6e7"
      },
      "execution_count": 139,
      "outputs": [
        {
          "output_type": "stream",
          "name": "stdout",
          "text": [
            "Gurobi Optimizer version 12.0.2 build v12.0.2rc0 (linux64 - \"Ubuntu 22.04.4 LTS\")\n",
            "\n",
            "CPU model: Intel(R) Xeon(R) CPU @ 2.20GHz, instruction set [SSE2|AVX|AVX2]\n",
            "Thread count: 1 physical cores, 2 logical processors, using up to 2 threads\n",
            "\n",
            "Optimize a model with 25 rows, 50 columns and 128 nonzeros\n",
            "Model fingerprint: 0x26da3550\n",
            "Variable types: 42 continuous, 8 integer (8 binary)\n",
            "Coefficient statistics:\n",
            "  Matrix range     [1e+00, 1e+05]\n",
            "  Objective range  [2e-01, 1e+04]\n",
            "  Bounds range     [1e+00, 1e+00]\n",
            "  RHS range        [1e+00, 2e+05]\n",
            "\n",
            "MIP start from previous solve did not produce a new incumbent solution\n",
            "\n",
            "Presolve removed 4 rows and 3 columns\n",
            "Presolve time: 0.00s\n",
            "Presolved: 21 rows, 47 columns, 116 nonzeros\n",
            "Variable types: 42 continuous, 5 integer (5 binary)\n",
            "Found heuristic solution: objective 196000.00000\n",
            "Found heuristic solution: objective 187500.00000\n",
            "\n",
            "Root relaxation: objective 1.857500e+05, 23 iterations, 0.00 seconds (0.00 work units)\n",
            "\n",
            "    Nodes    |    Current Node    |     Objective Bounds      |     Work\n",
            " Expl Unexpl |  Obj  Depth IntInf | Incumbent    BestBd   Gap | It/Node Time\n",
            "\n",
            "     0     0 infeasible    0      187500.000 187500.000  0.00%     -    0s\n",
            "\n",
            "Explored 1 nodes (23 simplex iterations) in 0.02 seconds (0.00 work units)\n",
            "Thread count was 2 (of 2 available processors)\n",
            "\n",
            "Solution count 2: 187500 196000 \n",
            "\n",
            "Optimal solution found (tolerance 1.00e-04)\n",
            "Best objective 1.875000000000e+05, best bound 1.875000000000e+05, gap 0.0000%\n"
          ]
        }
      ]
    },
    {
      "cell_type": "code",
      "source": [
        "print('List of open depots:', [d for d in depots if open[d].x > 0.5])\n",
        "if expand.x > 0.5:\n",
        "    print('Expand Birmingham')"
      ],
      "metadata": {
        "colab": {
          "base_uri": "https://localhost:8080/",
          "height": 0
        },
        "id": "UYAW7iUjfXLT",
        "outputId": "1c00b448-5e96-4dea-d742-4699077ad80c"
      },
      "execution_count": 140,
      "outputs": [
        {
          "output_type": "stream",
          "name": "stdout",
          "text": [
            "List of open depots: ['Birmingham', 'London', 'Exeter']\n",
            "Expand Birmingham\n"
          ]
        }
      ]
    },
    {
      "cell_type": "code",
      "source": [
        "if model.status == GRB.OPTIMAL:\n",
        "    print(\"Optimal objective value:\", model.ObjVal)\n",
        "else:\n",
        "    print(\"No optimal solution found.\")"
      ],
      "metadata": {
        "colab": {
          "base_uri": "https://localhost:8080/",
          "height": 0
        },
        "id": "GQFo1tnkfeL5",
        "outputId": "547e4956-f5fd-4d6e-d76a-1d419d278643"
      },
      "execution_count": 141,
      "outputs": [
        {
          "output_type": "stream",
          "name": "stdout",
          "text": [
            "Optimal objective value: 187500.0\n"
          ]
        }
      ]
    },
    {
      "cell_type": "markdown",
      "source": [
        "Clean"
      ],
      "metadata": {
        "id": "cH2Veot6fiY7"
      }
    },
    {
      "cell_type": "code",
      "source": [
        "# Remove created constraints and variables, to work with initial model in the next example\n",
        "model.remove(open_exeter_northampton_1)\n",
        "model.remove(open_exeter_northampton_2)\n",
        "model.remove(open_exeter_northampton_3)\n",
        "\n",
        "model.remove(open_exeter_northampton_newcastle)\n",
        "\n",
        "model.remove(open_exeter_northampton)"
      ],
      "metadata": {
        "id": "c3PZki8ufjVa"
      },
      "execution_count": 142,
      "outputs": []
    },
    {
      "cell_type": "markdown",
      "source": [
        "---\n",
        "## Problem 2, (f)\n",
        "\n",
        "Add the constraint that if the depot in Bristol is open, then you can expend its capacity by 10,000 tons, for an additional cost of $700."
      ],
      "metadata": {
        "id": "oks5id6Fhmj7"
      }
    },
    {
      "cell_type": "code",
      "source": [
        "# Create a binary variable expand_bristol indicating if Bristol is expanded\n",
        "expand_bristol = model.addVar(vtype=GRB.BINARY, name=\"expand_bristol\")\n",
        "\n",
        "# Adjust objective value function\n",
        "model.setObjective(model.getObjective() + 700 * expand_bristol, GRB.MINIMIZE)\n",
        "\n",
        "# Adjust throughput\n",
        "all_but_birmingham_bristol = list(set(depots) - set(['Birmingham'])-set(['Bristol']))\n",
        "\n",
        "depot_capacity = model.addConstrs((gp.quicksum(flow.select(depot, '*')) <= through[depot]*open[depot]\n",
        "                                   for depot in all_but_birmingham_bristol), name=\"depot_capacity\")\n",
        "\n",
        "# Adjust bristol capacity\n",
        "bristol_capacity = model.addConstr(gp.quicksum(flow.select('*', 'Bristol')) <= through['Bristol'] +\n",
        "                                      10000*expand, name=\"bristol_capacity\")\n",
        "\n",
        "# Bristol could be expanded only if it is opened\n",
        "expand_only_if_open_bristol = model.addConstr(open[\"Bristol\"] <= expand_bristol)"
      ],
      "metadata": {
        "id": "hfrRkT4ihyuW"
      },
      "execution_count": 143,
      "outputs": []
    },
    {
      "cell_type": "code",
      "source": [
        "model.optimize()"
      ],
      "metadata": {
        "colab": {
          "base_uri": "https://localhost:8080/",
          "height": 0
        },
        "id": "xGyX_OEcoHP5",
        "outputId": "01ddb1f9-60a6-4727-cf7c-6551f46558d1"
      },
      "execution_count": 144,
      "outputs": [
        {
          "output_type": "stream",
          "name": "stdout",
          "text": [
            "Gurobi Optimizer version 12.0.2 build v12.0.2rc0 (linux64 - \"Ubuntu 22.04.4 LTS\")\n",
            "\n",
            "CPU model: Intel(R) Xeon(R) CPU @ 2.20GHz, instruction set [SSE2|AVX|AVX2]\n",
            "Thread count: 1 physical cores, 2 logical processors, using up to 2 threads\n",
            "\n",
            "Optimize a model with 27 rows, 50 columns and 144 nonzeros\n",
            "Model fingerprint: 0xba714dd3\n",
            "Variable types: 42 continuous, 8 integer (8 binary)\n",
            "Coefficient statistics:\n",
            "  Matrix range     [1e+00, 1e+05]\n",
            "  Objective range  [2e-01, 1e+04]\n",
            "  Bounds range     [1e+00, 1e+00]\n",
            "  RHS range        [4e+00, 2e+05]\n",
            "Presolve removed 6 rows and 3 columns\n",
            "Presolve time: 0.00s\n",
            "Presolved: 21 rows, 47 columns, 117 nonzeros\n",
            "Variable types: 42 continuous, 5 integer (5 binary)\n",
            "Found heuristic solution: objective 196700.00000\n",
            "Found heuristic solution: objective 191200.00000\n",
            "\n",
            "Root relaxation: objective 1.740000e+05, 19 iterations, 0.00 seconds (0.00 work units)\n",
            "\n",
            "    Nodes    |    Current Node    |     Objective Bounds      |     Work\n",
            " Expl Unexpl |  Obj  Depth IntInf | Incumbent    BestBd   Gap | It/Node Time\n",
            "\n",
            "*    0     0               0    174000.00000 174000.000  0.00%     -    0s\n",
            "\n",
            "Explored 1 nodes (19 simplex iterations) in 0.02 seconds (0.00 work units)\n",
            "Thread count was 2 (of 2 available processors)\n",
            "\n",
            "Solution count 3: 174000 191200 196700 \n",
            "\n",
            "Optimal solution found (tolerance 1.00e-04)\n",
            "Best objective 1.740000000000e+05, best bound 1.740000000000e+05, gap 0.0000%\n"
          ]
        }
      ]
    },
    {
      "cell_type": "code",
      "source": [
        "print('List of open depots:', [d for d in depots if open[d].x > 0.5])\n",
        "if expand.x > 0.5:\n",
        "    print('Expand Birmingham')"
      ],
      "metadata": {
        "colab": {
          "base_uri": "https://localhost:8080/",
          "height": 0
        },
        "id": "YrEkY5uytbno",
        "outputId": "6795fd1e-38cf-487e-f7fa-2d826d9d6358"
      },
      "execution_count": 145,
      "outputs": [
        {
          "output_type": "stream",
          "name": "stdout",
          "text": [
            "List of open depots: ['Birmingham', 'London', 'Exeter', 'Northampton']\n",
            "Expand Birmingham\n"
          ]
        }
      ]
    },
    {
      "cell_type": "code",
      "source": [
        "if model.status == GRB.OPTIMAL:\n",
        "    print(\"Optimal objective value:\", model.ObjVal)\n",
        "else:\n",
        "    print(\"No optimal solution found.\")"
      ],
      "metadata": {
        "colab": {
          "base_uri": "https://localhost:8080/",
          "height": 0
        },
        "id": "F98Bshj2te4Y",
        "outputId": "4899d08c-1ca8-4f32-b9c0-9570431d3110"
      },
      "execution_count": 146,
      "outputs": [
        {
          "output_type": "stream",
          "name": "stdout",
          "text": [
            "Optimal objective value: 174000.0\n"
          ]
        }
      ]
    }
  ],
  "metadata": {
    "kernelspec": {
      "display_name": "Python 3",
      "language": "python",
      "name": "python3"
    },
    "language_info": {
      "codemirror_mode": {
        "name": "ipython",
        "version": 3
      },
      "file_extension": ".py",
      "mimetype": "text/x-python",
      "name": "python",
      "nbconvert_exporter": "python",
      "pygments_lexer": "ipython3",
      "version": "3.7.1"
    },
    "colab": {
      "provenance": [],
      "toc_visible": true,
      "include_colab_link": true
    }
  },
  "nbformat": 4,
  "nbformat_minor": 0
}